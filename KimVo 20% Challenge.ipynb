{
 "cells": [
  {
   "cell_type": "markdown",
   "metadata": {},
   "source": [
    "## Kim Vo\n",
    "Part 1:"
   ]
  },
  {
   "cell_type": "code",
   "execution_count": null,
   "metadata": {
    "collapsed": true
   },
   "outputs": [],
   "source": [
    "import sys\n",
    "sys.path.append('C:\\\\Program Files (x86)\\\\ArcGIS\\\\Desktop10.5\\\\bin')\n",
    "sys.path.append('C:\\\\Program Files (x86)\\\\ArcGIS\\\\Desktop10.5\\\\arcpy')\n",
    "sys.path.append('C:\\\\Program Files (x86)\\\\ArcGIS\\\\Desktop10.5\\\\ArcToolbox\\\\Scripts')\n",
    "import arcpy"
   ]
  },
  {
   "cell_type": "code",
   "execution_count": 4,
   "metadata": {},
   "outputs": [],
   "source": [
    "# Add field \"isUrban\" for data in 2017\n",
    "arcpy.AddField_management(\"U:\\GEOG458\\saep_bg10.shp\",\"U:]]]new.sph\",  \"isUrban\", \"TEXT\")\n",
    "arcpy.env.overwriteOutput = True"
   ]
  },
  {
   "cell_type": "code",
   "execution_count": 8,
   "metadata": {},
   "outputs": [],
   "source": [
    "# Update \"isUrban\" field \n",
    "fields = ['isUrban','ALANDMI','POP2017']\n",
    "curU = arcpy.da.UpdateCursor(\"U:\\GEOG458\\saep_bg10.shp\",fields)\n",
    "for row in curU:\n",
    "    if (row[1]*1000) <= row[2] and row[1] > 0 and row[2] > 0:\n",
    "        row[0] = \"Y\"\n",
    "        curU.updateRow(row)\n",
    "    else:\n",
    "        row[0] = \"N\"\n",
    "        curU.updateRow(row)\n",
    "del curU"
   ]
  },
  {
   "cell_type": "code",
   "execution_count": 7,
   "metadata": {},
   "outputs": [
    {
     "name": "stdout",
     "output_type": "stream",
     "text": [
      "71.821233739\n"
     ]
    }
   ],
   "source": [
    "# Print out percentage of the population of the state is urbanized in 2017\n",
    "curS = arcpy.da.SearchCursor(\"U:\\GEOG458\\saep_bg10.shp\",\"POP2017\",where_clause= '\"ALANDMI\" > 0 and \"POP2017\" > 0')\n",
    "total = 0.0\n",
    "for row in curS:\n",
    "    total += 1\n",
    "\n",
    "countUrban = 0.0\n",
    "curS = arcpy.da.SearchCursor(\"U:\\GEOG458\\saep_bg10.shp\",\"isUrban\")\n",
    "for row in curS:\n",
    "    if row[0] == \"Y\":\n",
    "        countUrban += 1\n",
    "\n",
    "print countUrban/total*100\n",
    "del curS"
   ]
  },
  {
   "cell_type": "code",
   "execution_count": 10,
   "metadata": {},
   "outputs": [
    {
     "name": "stdout",
     "output_type": "stream",
     "text": [
      "2.2669959616\n"
     ]
    }
   ],
   "source": [
    "# Print out percentage of the land area of the state is urbanized in 2017\n",
    "curS = arcpy.da.SearchCursor(\"U:\\GEOG458\\saep_bg10.shp\",[\"ALANDMI\",\"isUrban\"])\n",
    "urbanLand = 0.0\n",
    "totalLand = 0.0\n",
    "for row in curS:\n",
    "    totalLand += row[0]\n",
    "    if row[1] == \"Y\":\n",
    "        urbanLand += row[0]\n",
    "        \n",
    "print urbanLand/totalLand*100\n",
    "del curS"
   ]
  },
  {
   "cell_type": "code",
   "execution_count": 12,
   "metadata": {},
   "outputs": [
    {
     "name": "stdout",
     "output_type": "stream",
     "text": [
      "Block groups urbanized: 72\n",
      "Block groups deurbanized: 3\n"
     ]
    }
   ],
   "source": [
    "# Print out number of block groups urbanized and deurbanized from 2007 to 2017\\\n",
    "\n",
    "# Add new fields \"isUrban07\"\n",
    "arcpy.AddField_management(\"U:\\GEOG458\\saep_bg10.shp\", \"isUrban07\", \"TEXT\")\n",
    "fields = ['isUrban07','ALANDMI','POP2007']\n",
    "curU = arcpy.da.UpdateCursor(\"U:\\GEOG458\\saep_bg10.shp\",fields)\n",
    "for row in curU:\n",
    "    if (row[1]*1000) <= row[2] and row[1] > 0 and row[2] > 0:\n",
    "        row[0] = \"Y\"\n",
    "        curU.updateRow(row)\n",
    "    else:\n",
    "        row[0] = \"N\"\n",
    "        curU.updateRow(row)\n",
    "\n",
    "# Add new field \"urbanize\"\n",
    "arcpy.AddField_management(\"U:\\GEOG458\\saep_bg10.shp\", \"urbanize\", \"TEXT\")\n",
    "fields = ['isUrban', 'isUrban07','urbanize','ALANDMI','POP2007', 'POP2017']\n",
    "curU = arcpy.da.UpdateCursor(\"U:\\GEOG458\\saep_bg10.shp\",fields)\n",
    "for row in curU:\n",
    "    if row[3] > 0 and row[4] > 0 and row[5] > 0:\n",
    "        if row[0] == row[1]:\n",
    "            row[2] = \"no change in category\"\n",
    "            curU.updateRow(row)\n",
    "        elif row[0] == \"Y\" and row[1] == \"N\":\n",
    "            row[2]= \"urbanized\"\n",
    "            curU.updateRow(row)\n",
    "        else:\n",
    "            row[2] = \"deurbanized\"\n",
    "            curU.updateRow(row)\n",
    "\n",
    "# Print out result\n",
    "cursor = arcpy.da.SearchCursor(\"U:\\GEOG458\\saep_bg10.shp\", [\"urbanize\"])\n",
    "urbanized = 0\n",
    "deurbanized = 0\n",
    "for row in cursor:\n",
    "    if(row[0] == \"urbanized\"):\n",
    "        urbanized += 1\n",
    "    elif(row[0] == \"deurbanized\"):\n",
    "        deurbanized += 1\n",
    "print \"Block groups urbanized: \" + str(urbanized)\n",
    "print \"Block groups deurbanized: \" + str(deurbanized)\n",
    "\n",
    "del curU\n",
    "del cursor"
   ]
  },
  {
   "cell_type": "markdown",
   "metadata": {},
   "source": [
    "20% Challenge:"
   ]
  },
  {
   "cell_type": "code",
   "execution_count": 17,
   "metadata": {},
   "outputs": [
    {
     "name": "stdout",
     "output_type": "stream",
     "text": [
      "1.50533138198\n"
     ]
    }
   ],
   "source": [
    "urbanized = 72.0\n",
    "totalBlocks = arcpy.GetCount_management(\"U:\\GEOG458\\saep_bg10.shp\")\n",
    "print urbanized/float(totalBlocks[0])*100"
   ]
  },
  {
   "cell_type": "code",
   "execution_count": null,
   "metadata": {
    "collapsed": true
   },
   "outputs": [],
   "source": []
  }
 ],
 "metadata": {
  "kernelspec": {
   "display_name": "Python 2",
   "language": "python",
   "name": "python2"
  },
  "language_info": {
   "codemirror_mode": {
    "name": "ipython",
    "version": 2
   },
   "file_extension": ".py",
   "mimetype": "text/x-python",
   "name": "python",
   "nbconvert_exporter": "python",
   "pygments_lexer": "ipython2",
   "version": "2.7.13"
  }
 },
 "nbformat": 4,
 "nbformat_minor": 2
}
