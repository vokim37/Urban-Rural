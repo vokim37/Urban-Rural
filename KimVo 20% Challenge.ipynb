{
 "cells": [
  {
   "cell_type": "markdown",
   "metadata": {},
   "source": [
    "## Kim Vo\n",
    "### Part 1 (non-extra credit):"
   ]
  },
  {
   "cell_type": "code",
   "execution_count": 1,
   "metadata": {
    "collapsed": true
   },
   "outputs": [],
   "source": [
    "import sys\n",
    "sys.path.append('C:\\\\Program Files (x86)\\\\ArcGIS\\\\Desktop10.5\\\\bin')\n",
    "sys.path.append('C:\\\\Program Files (x86)\\\\ArcGIS\\\\Desktop10.5\\\\arcpy')\n",
    "sys.path.append('C:\\\\Program Files (x86)\\\\ArcGIS\\\\Desktop10.5\\\\ArcToolbox\\\\Scripts')\n",
    "import arcpy"
   ]
  },
  {
   "cell_type": "code",
   "execution_count": 3,
   "metadata": {},
   "outputs": [],
   "source": [
    "# Add field \"isUrban\" for data in 2017\n",
    "arcpy.AddField_management(\"U:\\GEOG458\\saep_bg10.shp\",  \"isUrban\", \"TEXT\")"
   ]
  },
  {
   "cell_type": "code",
   "execution_count": 36,
   "metadata": {
    "collapsed": true
   },
   "outputs": [],
   "source": [
    "# Update \"isUrban\" field \n",
    "fields = ['isUrban','ALANDMI','POP2017']\n",
    "curU = arcpy.da.UpdateCursor(\"U:\\GEOG458\\saep_bg10.shp\",fields)\n",
    "for row in curU:\n",
    "    if (row[1]*1000) <= row[2] and row[1] > 0 and row[2] > 0:\n",
    "        row[0] = \"Y\"\n",
    "        curU.updateRow(row)\n",
    "    else:\n",
    "        row[0] = \"N\"\n",
    "        curU.updateRow(row)\n",
    "del curU"
   ]
  },
  {
   "cell_type": "code",
   "execution_count": 38,
   "metadata": {},
   "outputs": [
    {
     "name": "stdout",
     "output_type": "stream",
     "text": [
      "71.821233739\n"
     ]
    }
   ],
   "source": [
    "# Print out percentage of the population of the state is urbanized in 2017\n",
    "curS = arcpy.da.SearchCursor(\"U:\\GEOG458\\saep_bg10.shp\",\"POP2017\",\n",
    "                             where_clause= '\"ALANDMI\" > 0 and \"POP2017\" > 0')\n",
    "                            # use where_clause to select eliminate rows without data\n",
    "total = 0.0\n",
    "for row in curS:\n",
    "    total += 1\n",
    "\n",
    "countUrban = 0.0\n",
    "curS = arcpy.da.SearchCursor(\"U:\\GEOG458\\saep_bg10.shp\",\"isUrban\")\n",
    "for row in curS:\n",
    "    if row[0] == \"Y\":\n",
    "        countUrban += 1\n",
    "\n",
    "print countUrban/total*100\n",
    "del curS"
   ]
  },
  {
   "cell_type": "code",
   "execution_count": 39,
   "metadata": {},
   "outputs": [
    {
     "name": "stdout",
     "output_type": "stream",
     "text": [
      "2.2669959616\n"
     ]
    }
   ],
   "source": [
    "# Print out percentage of the land area of the state is urbanized in 2017\n",
    "curS = arcpy.da.SearchCursor(\"U:\\GEOG458\\saep_bg10.shp\",[\"ALANDMI\",\"isUrban\"])\n",
    "urbanLand = 0.0\n",
    "totalLand = 0.0\n",
    "for row in curS:\n",
    "    totalLand += row[0]\n",
    "    if row[1] == \"Y\":\n",
    "        urbanLand += row[0]\n",
    "        \n",
    "print urbanLand/totalLand*100\n",
    "del curS"
   ]
  },
  {
   "cell_type": "code",
   "execution_count": 40,
   "metadata": {},
   "outputs": [
    {
     "name": "stdout",
     "output_type": "stream",
     "text": [
      "Block groups urbanized: 72\n",
      "Block groups deurbanized: 3\n"
     ]
    }
   ],
   "source": [
    "# Print out number of block groups urbanized and deurbanized from 2007 to 2017\\\n",
    "\n",
    "# Add new fields \"isUrban07\" to show urban/rural status for 2007\n",
    "arcpy.AddField_management(\"U:\\GEOG458\\saep_bg10.shp\", \"isUrban07\", \"TEXT\")\n",
    "fields = ['isUrban07','ALANDMI','POP2007']\n",
    "curU = arcpy.da.UpdateCursor(\"U:\\GEOG458\\saep_bg10.shp\",fields)\n",
    "for row in curU:\n",
    "    if (row[1]*1000) <= row[2] and row[1] > 0 and row[2] > 0:\n",
    "        row[0] = \"Y\"\n",
    "        curU.updateRow(row)\n",
    "    else:\n",
    "        row[0] = \"N\"\n",
    "        curU.updateRow(row)\n",
    "\n",
    "# Add new field \"urbanize\" to show changes from 2007 - 2017\n",
    "arcpy.AddField_management(\"U:\\GEOG458\\saep_bg10.shp\", \"urbanize\", \"TEXT\")\n",
    "fields = ['isUrban', 'isUrban07','urbanize','ALANDMI','POP2007', 'POP2017']\n",
    "curU = arcpy.da.UpdateCursor(\"U:\\GEOG458\\saep_bg10.shp\",fields)\n",
    "for row in curU:\n",
    "    if row[3] > 0 and row[4] > 0 and row[5] > 0:\n",
    "        if row[0] == row[1]:\n",
    "            row[2] = \"no change in category\"\n",
    "            curU.updateRow(row)\n",
    "        elif row[0] == \"Y\" and row[1] == \"N\":\n",
    "            row[2]= \"urbanized\"\n",
    "            curU.updateRow(row)\n",
    "        else:\n",
    "            row[2] = \"deurbanized\"\n",
    "            curU.updateRow(row)\n",
    "\n",
    "# Print out result\n",
    "cursor = arcpy.da.SearchCursor(\"U:\\GEOG458\\saep_bg10.shp\", [\"urbanize\"])\n",
    "urbanized = 0\n",
    "deurbanized = 0\n",
    "for row in cursor:\n",
    "    if(row[0] == \"urbanized\"):\n",
    "        urbanized += 1\n",
    "    elif(row[0] == \"deurbanized\"):\n",
    "        deurbanized += 1\n",
    "print \"Block groups urbanized: \" + str(urbanized)\n",
    "print \"Block groups deurbanized: \" + str(deurbanized)\n",
    "\n",
    "del curU\n",
    "del cursor"
   ]
  },
  {
   "cell_type": "markdown",
   "metadata": {},
   "source": [
    "### 20% Challenge:\n",
    "#### Find percentages of numbers of urban block groups change:"
   ]
  },
  {
   "cell_type": "code",
   "execution_count": 19,
   "metadata": {},
   "outputs": [
    {
     "name": "stdout",
     "output_type": "stream",
     "text": [
      "70.33% of blocks were urbanized in 2007\n",
      "71.82% of blocks were urbanized in 2017\n",
      "1.49% is the change in WA urbanization between 2007 - 2017\n"
     ]
    }
   ],
   "source": [
    "# Find the percentage of blocks urbanized in 2007 and print out the result\n",
    "curS = arcpy.da.SearchCursor(\"U:\\GEOG458\\saep_bg10.shp\",\"POP2007\",\n",
    "                             where_clause= '\"ALANDMI\" > 0 and \"POP2007\" > 0')\n",
    "                            # use where_clause to select eliminate rows without data\n",
    "total = 0.0\n",
    "for row in curS:\n",
    "    total += 1\n",
    "\n",
    "countUrban = 0.0\n",
    "curS = arcpy.da.SearchCursor(\"U:\\GEOG458\\saep_bg10.shp\",\"isUrban07\")\n",
    "for row in curS:\n",
    "    if row[0] == \"Y\":\n",
    "        countUrban += 1\n",
    "\n",
    "result = round(countUrban/total*100, 2) # reduce result to 2 decimals\n",
    "print str(result) + \"% of blocks were urbanized in 2007\"\n",
    "\n",
    "# Use result from previous calculation for urban/rural status in 2017 to find overall change\n",
    "currentUrbanPct = 71.82\n",
    "print str(currentUrbanPct) + \"% of blocks were urbanized in 2017\"\n",
    "print str(currentUrbanPct - result) + \"% is the change in WA urbanization between 2007 - 2017\"\n",
    "\n",
    "del curS"
   ]
  },
  {
   "cell_type": "markdown",
   "metadata": {
    "collapsed": true
   },
   "source": [
    "#### Find the % change for urban-area populations of the state: "
   ]
  },
  {
   "cell_type": "code",
   "execution_count": 44,
   "metadata": {},
   "outputs": [
    {
     "name": "stdout",
     "output_type": "stream",
     "text": [
      "70.76% of the state population were urbanized in 2007\n",
      "72.98% of the state population were urbanized in 2007\n",
      "2.22% of the state's urban-area population change from 2007-2017\n"
     ]
    }
   ],
   "source": [
    "# Find the % of urban population in 2007 and print out result\n",
    "totalPop07 = 0\n",
    "urbanPop07 = 0\n",
    "curS = arcpy.da.SearchCursor(\"U:\\GEOG458\\saep_bg10.shp\",[\"POP2007\", \"isUrban07\"])\n",
    "for row in curS:\n",
    "    totalPop07 += row[0]\n",
    "    if row[1] == \"Y\":\n",
    "        urbanPop07 += row[0]\n",
    "result07 = round(urbanPop07/totalPop07*100, 2)\n",
    "print str(result07) + \"% of the state population were urbanized in 2007\"\n",
    "\n",
    "# Find the % of urban population in 2017 and print out result\n",
    "totalPop17 = 0\n",
    "urbanPop17 = 0\n",
    "curS = arcpy.da.SearchCursor(\"U:\\GEOG458\\saep_bg10.shp\",[\"POP2017\", \"isUrban\"])\n",
    "for row in curS:\n",
    "    totalPop17 += row[0]\n",
    "    if row[1] == \"Y\":\n",
    "        urbanPop17 += row[0]\n",
    "result17 = round(urbanPop17/totalPop17*100, 2)\n",
    "print str(result17) + \"% of the state population were urbanized in 2007\"\n",
    "\n",
    "# Print out overall change\n",
    "print str(result17 - result07) + \"% of the state's urban-area population change from 2007-2017\"\n",
    "\n",
    "del curS"
   ]
  },
  {
   "cell_type": "markdown",
   "metadata": {},
   "source": [
    "#### Run analysis and compare results for 20% decreases and increases in the thredshold between urban and rural:"
   ]
  },
  {
   "cell_type": "markdown",
   "metadata": {},
   "source": [
    "Since I used 1000 persons/square-mile for previous analysis, I will recalculate numbers of urbanized and deurbanized blocks with the thredshold for urbanized areas being >= 800 persons/square-mile, and >= 1200 persons/square-mile."
   ]
  },
  {
   "cell_type": "code",
   "execution_count": 52,
   "metadata": {},
   "outputs": [
    {
     "name": "stdout",
     "output_type": "stream",
     "text": [
      "Urbanization with >= 1000 persons/square-mile (from previous calculation):\n",
      "\t Block groups urbanized: 72\n",
      "\t Block groups deurbanized: 3 \n",
      "\n",
      "Urbanization with >= 800 persons/square-mile:\n",
      "\t Block groups urbanized: 61\n",
      "\t Block groups deurbanized: 1\n",
      "\n",
      "Urbanization with >= 1200 persons/square-mile:\n",
      "\t Block groups urbanized: 65\n",
      "\t Block groups deurbanized: 3\n"
     ]
    }
   ],
   "source": [
    "# Find numbers of urbanized & deurbanized blocks from 2007-2017 with at least 800 persons/square-mile for urban area\n",
    "\n",
    "# Print current result for urbanized & deurbanized blocks from previous calculation for comparison purpose\n",
    "print \"Urbanization with >= 1000 persons/square-mile (from previous calculation):\"\n",
    "print \"\\t Block groups urbanized: 72\"\n",
    "print \"\\t Block groups deurbanized: 3 \\n\"\n",
    "\n",
    "print \"Urbanization with >= 800 persons/square-mile:\"\n",
    "arcpy.env.overwriteOutput = True\n",
    "arcpy.AddField_management(\"U:\\GEOG458\\saep_bg10.shp\",  \"isUrb07Low\", \"TEXT\")\n",
    "# Update \"isUrb07Low\" field \n",
    "fields = ['isUrb07Low','ALANDMI','POP2007']\n",
    "curU = arcpy.da.UpdateCursor(\"U:\\GEOG458\\saep_bg10.shp\",fields)\n",
    "countUrb07Low = 0\n",
    "for row in curU:\n",
    "    if (row[1]*800) <= row[2] and row[1] > 0 and row[2] > 0:\n",
    "        row[0] = \"Y\"\n",
    "        curU.updateRow(row)\n",
    "        countUrb07Low += 1\n",
    "    else:\n",
    "        row[0] = \"N\"\n",
    "        curU.updateRow(row)\n",
    "\n",
    "arcpy.AddField_management(\"U:\\GEOG458\\saep_bg10.shp\",  \"isUrb17Low\", \"TEXT\")\n",
    "# Update \"isUrb17Low\" field for 2017\n",
    "fields = ['isUrb17Low','ALANDMI','POP2017']\n",
    "curU = arcpy.da.UpdateCursor(\"U:\\GEOG458\\saep_bg10.shp\",fields)\n",
    "countUrb17Low = 0\n",
    "for row in curU:\n",
    "    if (row[1]*800) <= row[2] and row[1] > 0 and row[2] > 0:\n",
    "        row[0] = \"Y\"\n",
    "        curU.updateRow(row)\n",
    "        countUrb17Low += 1\n",
    "    else:\n",
    "        row[0] = \"N\"\n",
    "        curU.updateRow(row)\n",
    "\n",
    "# Add new field \"changeLow\" to show changes from 2007 - 2017\n",
    "arcpy.AddField_management(\"U:\\GEOG458\\saep_bg10.shp\", \"changeLow\", \"TEXT\")\n",
    "fields = ['isUrb17Low', 'isUrb07Low','changeLow','ALANDMI','POP2007', 'POP2017']\n",
    "curU = arcpy.da.UpdateCursor(\"U:\\GEOG458\\saep_bg10.shp\",fields)\n",
    "for row in curU:\n",
    "    if row[3] > 0 and row[4] > 0 and row[5] > 0:\n",
    "        if row[0] == row[1]:\n",
    "            row[2] = \"no change in category\"\n",
    "            curU.updateRow(row)\n",
    "        elif row[0] == \"Y\" and row[1] == \"N\":\n",
    "            row[2]= \"urbanized\"\n",
    "            curU.updateRow(row)\n",
    "        else:\n",
    "            row[2] = \"deurbanized\"\n",
    "            curU.updateRow(row)\n",
    "\n",
    "# Print out result\n",
    "cursor = arcpy.da.SearchCursor(\"U:\\GEOG458\\saep_bg10.shp\", [\"changeLow\"])\n",
    "urbanized = 0\n",
    "deurbanized = 0\n",
    "for row in cursor:\n",
    "    if(row[0] == \"urbanized\"):\n",
    "        urbanized += 1\n",
    "    elif(row[0] == \"deurbanized\"):\n",
    "        deurbanized += 1\n",
    "print \"\\t Block groups urbanized: \" + str(urbanized)\n",
    "print \"\\t Block groups deurbanized: \" + str(deurbanized) + \"\\n\"\n",
    "\n",
    "\n",
    "print \"Urbanization with >= 1200 persons/square-mile:\"\n",
    "arcpy.env.overwriteOutput = True\n",
    "arcpy.AddField_management(\"U:\\GEOG458\\saep_bg10.shp\",  \"isUrb07H\", \"TEXT\")\n",
    "# Update \"isUrb07H\" field \n",
    "fields = ['isUrb07H','ALANDMI','POP2007']\n",
    "curU = arcpy.da.UpdateCursor(\"U:\\GEOG458\\saep_bg10.shp\",fields)\n",
    "countUrb07H = 0\n",
    "for row in curU:\n",
    "    if (row[1]*1200) <= row[2] and row[1] > 0 and row[2] > 0:\n",
    "        row[0] = \"Y\"\n",
    "        curU.updateRow(row)\n",
    "        countUrb07H += 1\n",
    "    else:\n",
    "        row[0] = \"N\"\n",
    "        curU.updateRow(row)\n",
    "\n",
    "arcpy.AddField_management(\"U:\\GEOG458\\saep_bg10.shp\",  \"isUrb17H\", \"TEXT\")\n",
    "# Update \"isUrb17H\" field for 2017\n",
    "fields = ['isUrb17H','ALANDMI','POP2017']\n",
    "curU = arcpy.da.UpdateCursor(\"U:\\GEOG458\\saep_bg10.shp\",fields)\n",
    "countUrb17H = 0\n",
    "for row in curU:\n",
    "    if (row[1]*1200) <= row[2] and row[1] > 0 and row[2] > 0:\n",
    "        row[0] = \"Y\"\n",
    "        curU.updateRow(row)\n",
    "        countUrb17H += 1\n",
    "    else:\n",
    "        row[0] = \"N\"\n",
    "        curU.updateRow(row)\n",
    "\n",
    "# Add new field \"changeH\" to show changes from 2007 - 2017\n",
    "arcpy.AddField_management(\"U:\\GEOG458\\saep_bg10.shp\", \"changeH\", \"TEXT\")\n",
    "fields = ['isUrb17H', 'isUrb07H','changeH','ALANDMI','POP2007', 'POP2017']\n",
    "curU = arcpy.da.UpdateCursor(\"U:\\GEOG458\\saep_bg10.shp\",fields)\n",
    "for row in curU:\n",
    "    if row[3] > 0 and row[4] > 0 and row[5] > 0:\n",
    "        if row[0] == row[1]:\n",
    "            row[2] = \"no change in category\"\n",
    "            curU.updateRow(row)\n",
    "        elif row[0] == \"Y\" and row[1] == \"N\":\n",
    "            row[2]= \"urbanized\"\n",
    "            curU.updateRow(row)\n",
    "        else:\n",
    "            row[2] = \"deurbanized\"\n",
    "            curU.updateRow(row)\n",
    "\n",
    "# Print out result\n",
    "cursor = arcpy.da.SearchCursor(\"U:\\GEOG458\\saep_bg10.shp\", [\"changeH\"])\n",
    "urbanized = 0\n",
    "deurbanized = 0\n",
    "for row in cursor:\n",
    "    if(row[0] == \"urbanized\"):\n",
    "        urbanized += 1\n",
    "    elif(row[0] == \"deurbanized\"):\n",
    "        deurbanized += 1\n",
    "print \"\\t Block groups urbanized: \" + str(urbanized)\n",
    "print \"\\t Block groups deurbanized: \" + str(deurbanized)"
   ]
  },
  {
   "cell_type": "markdown",
   "metadata": {},
   "source": [
    "#### This code block is very long, but I put them all in one block because I want the results to be printed out next to each other for comparison purpose."
   ]
  }
 ],
 "metadata": {
  "kernelspec": {
   "display_name": "Python 2",
   "language": "python",
   "name": "python2"
  },
  "language_info": {
   "codemirror_mode": {
    "name": "ipython",
    "version": 2
   },
   "file_extension": ".py",
   "mimetype": "text/x-python",
   "name": "python",
   "nbconvert_exporter": "python",
   "pygments_lexer": "ipython2",
   "version": "2.7.14"
  }
 },
 "nbformat": 4,
 "nbformat_minor": 2
}
